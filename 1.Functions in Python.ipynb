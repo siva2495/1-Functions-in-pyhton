{
 "cells": [
  {
   "cell_type": "markdown",
   "id": "e2af81e3",
   "metadata": {},
   "source": [
    "# Defining Functions#"
   ]
  },
  {
   "cell_type": "markdown",
   "id": "2fc77b7f",
   "metadata": {},
   "source": [
    "Defining Functions\n",
    "*Purpose of functions is to group a particular lines of code that needs to be executed multiple times.\n",
    "*The keyword def introduces a function definition and it must be followed by the function name."
   ]
  },
  {
   "cell_type": "code",
   "execution_count": 1,
   "id": "72285e22",
   "metadata": {},
   "outputs": [],
   "source": [
    "def welcome():\n",
    "    print(\"welcome to the pyhton course!!!\")"
   ]
  },
  {
   "cell_type": "code",
   "execution_count": 2,
   "id": "1bad7a22",
   "metadata": {},
   "outputs": [
    {
     "name": "stdout",
     "output_type": "stream",
     "text": [
      "welcome to the pyhton course!!!\n"
     ]
    }
   ],
   "source": [
    "welcome()"
   ]
  },
  {
   "cell_type": "markdown",
   "id": "30d3db91",
   "metadata": {},
   "source": [
    "return statemet\n",
    "*the return satement is used to end the execution of function call and give the result.\n",
    "*the statement after the return statements are not executed."
   ]
  },
  {
   "cell_type": "code",
   "execution_count": 3,
   "id": "17f38b23",
   "metadata": {},
   "outputs": [],
   "source": [
    "def add_two_numbers():\n",
    "    #add two numbers 3 and 4\n",
    "    total = 3+4\n",
    "    \n",
    "    #print the total\n",
    "    print(\"sum of 3 and 4 is: \", total)"
   ]
  },
  {
   "cell_type": "code",
   "execution_count": 8,
   "id": "5ed178e6",
   "metadata": {},
   "outputs": [
    {
     "name": "stdout",
     "output_type": "stream",
     "text": [
      "sum of 3 and 4 is:  7\n"
     ]
    },
    {
     "data": {
      "text/plain": [
       "7"
      ]
     },
     "execution_count": 8,
     "metadata": {},
     "output_type": "execute_result"
    }
   ],
   "source": [
    "add_two_numbers()"
   ]
  },
  {
   "cell_type": "code",
   "execution_count": 9,
   "id": "1ec80d25",
   "metadata": {},
   "outputs": [],
   "source": [
    "def add_two_numbers_with_return():\n",
    "    #add two numbers 3 and 4\n",
    "    total = 3+4\n",
    "    \n",
    "    #print the total\n",
    "    print(\"sum of 3 and 4 is: \", total)\n",
    "    \n",
    "    #return the value of total\n",
    "    return total"
   ]
  },
  {
   "cell_type": "code",
   "execution_count": 10,
   "id": "32b01120",
   "metadata": {},
   "outputs": [
    {
     "name": "stdout",
     "output_type": "stream",
     "text": [
      "sum of 3 and 4 is:  7\n"
     ]
    },
    {
     "data": {
      "text/plain": [
       "7"
      ]
     },
     "execution_count": 10,
     "metadata": {},
     "output_type": "execute_result"
    }
   ],
   "source": [
    "add_two_numbers_with_return()"
   ]
  },
  {
   "cell_type": "code",
   "execution_count": 11,
   "id": "0427fde5",
   "metadata": {},
   "outputs": [
    {
     "name": "stdout",
     "output_type": "stream",
     "text": [
      "sum of 3 and 4 is:  7\n"
     ]
    }
   ],
   "source": [
    "output1= add_two_numbers()"
   ]
  },
  {
   "cell_type": "code",
   "execution_count": 12,
   "id": "b72d5b83",
   "metadata": {},
   "outputs": [
    {
     "name": "stdout",
     "output_type": "stream",
     "text": [
      "sum of 3 and 4 is:  7\n"
     ]
    }
   ],
   "source": [
    "output2= add_two_numbers_with_return()"
   ]
  },
  {
   "cell_type": "code",
   "execution_count": 13,
   "id": "996a3149",
   "metadata": {},
   "outputs": [
    {
     "data": {
      "text/plain": [
       "7"
      ]
     },
     "execution_count": 13,
     "metadata": {},
     "output_type": "execute_result"
    }
   ],
   "source": [
    "output1"
   ]
  },
  {
   "cell_type": "code",
   "execution_count": 14,
   "id": "7e25e164",
   "metadata": {},
   "outputs": [
    {
     "data": {
      "text/plain": [
       "7"
      ]
     },
     "execution_count": 14,
     "metadata": {},
     "output_type": "execute_result"
    }
   ],
   "source": [
    "output2"
   ]
  },
  {
   "cell_type": "code",
   "execution_count": 15,
   "id": "15e4478d",
   "metadata": {},
   "outputs": [],
   "source": [
    "#passing parameters\n",
    "def welcome(name):\n",
    "    return \"welcome to python course, \" + name"
   ]
  },
  {
   "cell_type": "code",
   "execution_count": 18,
   "id": "28c9f55b",
   "metadata": {},
   "outputs": [
    {
     "data": {
      "text/plain": [
       "'welcome to python course, siva'"
      ]
     },
     "execution_count": 18,
     "metadata": {},
     "output_type": "execute_result"
    }
   ],
   "source": [
    "welcome(\"siva\")"
   ]
  },
  {
   "cell_type": "code",
   "execution_count": 20,
   "id": "7f213cd1",
   "metadata": {},
   "outputs": [
    {
     "data": {
      "text/plain": [
       "'welcome to python course, SK'"
      ]
     },
     "execution_count": 20,
     "metadata": {},
     "output_type": "execute_result"
    }
   ],
   "source": [
    "welcome(\"SK\")"
   ]
  },
  {
   "cell_type": "code",
   "execution_count": 21,
   "id": "0ae043aa",
   "metadata": {},
   "outputs": [],
   "source": [
    "#default value parameter\n",
    "def welcome(name = \"Siva\"):\n",
    "    return \"welcome to python course, \" + name"
   ]
  },
  {
   "cell_type": "code",
   "execution_count": 22,
   "id": "51cbfa90",
   "metadata": {},
   "outputs": [
    {
     "data": {
      "text/plain": [
       "'welcome to python course, Siva'"
      ]
     },
     "execution_count": 22,
     "metadata": {},
     "output_type": "execute_result"
    }
   ],
   "source": [
    "welcome()"
   ]
  },
  {
   "cell_type": "code",
   "execution_count": 23,
   "id": "352665ac",
   "metadata": {},
   "outputs": [
    {
     "data": {
      "text/plain": [
       "'welcome to python course, Roshan'"
      ]
     },
     "execution_count": 23,
     "metadata": {},
     "output_type": "execute_result"
    }
   ],
   "source": [
    "welcome(\"Roshan\")"
   ]
  },
  {
   "cell_type": "markdown",
   "id": "2f6b40e2",
   "metadata": {},
   "source": [
    "#positional arrangement\n",
    "Most arfuments are identified by their position in the function call. print(a, b) will give different result from print(b, a)"
   ]
  },
  {
   "cell_type": "code",
   "execution_count": 24,
   "id": "3b959634",
   "metadata": {},
   "outputs": [],
   "source": [
    "def math_function(small_number, large_number):\n",
    "    \n",
    "    diff = large_number - small_number\n",
    "    return diff"
   ]
  },
  {
   "cell_type": "code",
   "execution_count": 25,
   "id": "894a3552",
   "metadata": {},
   "outputs": [
    {
     "data": {
      "text/plain": [
       "12"
      ]
     },
     "execution_count": 25,
     "metadata": {},
     "output_type": "execute_result"
    }
   ],
   "source": [
    "math_function(4, 16)"
   ]
  },
  {
   "cell_type": "code",
   "execution_count": 27,
   "id": "dde7ba2b",
   "metadata": {},
   "outputs": [
    {
     "data": {
      "text/plain": [
       "-12"
      ]
     },
     "execution_count": 27,
     "metadata": {},
     "output_type": "execute_result"
    }
   ],
   "source": [
    "math_function(16, 4) #have you seen here 4 is taken in the place large number"
   ]
  },
  {
   "cell_type": "markdown",
   "id": "43c230d7",
   "metadata": {},
   "source": [
    "#KEYWORD ARGUMENTS\n",
    "If we are defining the keywords, then we can define them in any order."
   ]
  },
  {
   "cell_type": "code",
   "execution_count": 29,
   "id": "bfe6b845",
   "metadata": {},
   "outputs": [
    {
     "data": {
      "text/plain": [
       "12"
      ]
     },
     "execution_count": 29,
     "metadata": {},
     "output_type": "execute_result"
    }
   ],
   "source": [
    "math_function(large_number = 16, small_number = 4)"
   ]
  },
  {
   "cell_type": "code",
   "execution_count": 30,
   "id": "a3ef5ccc",
   "metadata": {},
   "outputs": [
    {
     "data": {
      "text/plain": [
       "12"
      ]
     },
     "execution_count": 30,
     "metadata": {},
     "output_type": "execute_result"
    }
   ],
   "source": [
    "math_function( small_number = 4, large_number = 16)"
   ]
  },
  {
   "cell_type": "code",
   "execution_count": 31,
   "id": "ab280e60",
   "metadata": {},
   "outputs": [
    {
     "ename": "SyntaxError",
     "evalue": "positional argument follows keyword argument (<ipython-input-31-b32acc90b023>, line 1)",
     "output_type": "error",
     "traceback": [
      "\u001b[1;36m  File \u001b[1;32m\"<ipython-input-31-b32acc90b023>\"\u001b[1;36m, line \u001b[1;32m1\u001b[0m\n\u001b[1;33m    math_function( small_number = 4, 16)\u001b[0m\n\u001b[1;37m                                     ^\u001b[0m\n\u001b[1;31mSyntaxError\u001b[0m\u001b[1;31m:\u001b[0m positional argument follows keyword argument\n"
     ]
    }
   ],
   "source": [
    "math_function( small_number = 4, 16)"
   ]
  },
  {
   "cell_type": "markdown",
   "id": "e0bb4108",
   "metadata": {},
   "source": [
    "In Python, we cannot first define keyword argument and then positional arguments"
   ]
  },
  {
   "cell_type": "code",
   "execution_count": 32,
   "id": "cabed978",
   "metadata": {},
   "outputs": [
    {
     "data": {
      "text/plain": [
       "12"
      ]
     },
     "execution_count": 32,
     "metadata": {},
     "output_type": "execute_result"
    }
   ],
   "source": [
    "math_function(4, large_number = 16)"
   ]
  },
  {
   "cell_type": "markdown",
   "id": "89fe3dd8",
   "metadata": {},
   "source": [
    "In Python, we always define positional arguments before the keyword arguments"
   ]
  },
  {
   "cell_type": "markdown",
   "id": "fe599754",
   "metadata": {},
   "source": [
    "VARIABLE LENGTH ARGUMENTS\n",
    "*Sometimes, we need more flexibility while defining functions like we don't know in advance the fixed number of arguments.\n",
    "*Python allows us to make function calls with variable length arguments.\n",
    "*In the argument use an (*) astrick sign before the argument. Let's see how to use in below example."
   ]
  },
  {
   "cell_type": "code",
   "execution_count": 38,
   "id": "964af14b",
   "metadata": {},
   "outputs": [],
   "source": [
    "#define function\n",
    "def my_function(*args):\n",
    "    \n",
    "    for i in args:\n",
    "        print(i)"
   ]
  },
  {
   "cell_type": "code",
   "execution_count": 39,
   "id": "2247bab7",
   "metadata": {},
   "outputs": [
    {
     "name": "stdout",
     "output_type": "stream",
     "text": [
      "1\n",
      "2\n",
      "4\n"
     ]
    }
   ],
   "source": [
    "my_function(1, 2, 4)"
   ]
  },
  {
   "cell_type": "code",
   "execution_count": 40,
   "id": "f2d2508f",
   "metadata": {},
   "outputs": [
    {
     "name": "stdout",
     "output_type": "stream",
     "text": [
      "hjdhjf\n",
      "hdjhsfj\n",
      "2\n",
      "65\n"
     ]
    }
   ],
   "source": [
    "my_function(\"hjdhjf\", \"hdjhsfj\", 2, 65)"
   ]
  },
  {
   "cell_type": "code",
   "execution_count": 41,
   "id": "6b032fb6",
   "metadata": {},
   "outputs": [],
   "source": [
    "def my_function_arg(**kwargs):\n",
    "    for key, value in kwargs.items():\n",
    "        print(key, value)"
   ]
  },
  {
   "cell_type": "code",
   "execution_count": 42,
   "id": "4c53982f",
   "metadata": {},
   "outputs": [
    {
     "name": "stdout",
     "output_type": "stream",
     "text": [
      "a 1\n",
      "b 3\n",
      "c 4\n"
     ]
    }
   ],
   "source": [
    "my_function_arg(a=1, b=3, c=4)"
   ]
  },
  {
   "cell_type": "code",
   "execution_count": 43,
   "id": "42b258c0",
   "metadata": {},
   "outputs": [
    {
     "name": "stdout",
     "output_type": "stream",
     "text": [
      "a y\n",
      "b x\n"
     ]
    }
   ],
   "source": [
    "my_function_arg(a = 'y', b= 'x')"
   ]
  },
  {
   "cell_type": "markdown",
   "id": "d97de152",
   "metadata": {},
   "source": [
    "#Scope of Variables: Local and Global Variables\n",
    "\n",
    "*\"Scope of Variable\" means that part of program where we can access the particular variable.\n",
    "*\"Local Variable\" are those which are defined inside the function and can be only accessed inside that particular function.\n",
    "*\"Global Variable\" are defined outside the function and can be accessed throughout the program."
   ]
  },
  {
   "cell_type": "markdown",
   "id": "d14fc7d7",
   "metadata": {},
   "source": [
    "Let's define a global variable, \"name\" outside the function. We will return its value using a function \"my_function\" and see that we would be able to access its value using that function also."
   ]
  },
  {
   "cell_type": "code",
   "execution_count": 44,
   "id": "d97371b8",
   "metadata": {},
   "outputs": [],
   "source": [
    "#define a global variable\n",
    "name = \"variable out side the function\"\n",
    "\n",
    "#define a function\n",
    "def my_function():\n",
    "    #acess the variable out side of the function\n",
    "    return name"
   ]
  },
  {
   "cell_type": "code",
   "execution_count": 45,
   "id": "e1dad42c",
   "metadata": {},
   "outputs": [
    {
     "data": {
      "text/plain": [
       "'variable out side the function'"
      ]
     },
     "execution_count": 45,
     "metadata": {},
     "output_type": "execute_result"
    }
   ],
   "source": [
    "my_function()"
   ]
  },
  {
   "cell_type": "code",
   "execution_count": 46,
   "id": "da9e9f20",
   "metadata": {},
   "outputs": [
    {
     "data": {
      "text/plain": [
       "'variable out side the function'"
      ]
     },
     "execution_count": 46,
     "metadata": {},
     "output_type": "execute_result"
    }
   ],
   "source": [
    "name"
   ]
  },
  {
   "cell_type": "markdown",
   "id": "952e3dea",
   "metadata": {},
   "source": [
    "So, we were able to access the value of a global variable from inside the function. Let's see what will happen if we try to change the value of global variable inside the function"
   ]
  },
  {
   "cell_type": "code",
   "execution_count": 47,
   "id": "8b791c77",
   "metadata": {},
   "outputs": [],
   "source": [
    "#define a global variable\n",
    "name = \"variable out side the function\"\n",
    "\n",
    "#define a function\n",
    "def my_function():\n",
    "    #try to change the value of global variable inside of the function\n",
    "    name = \"variable inside the function\"\n",
    "    return name"
   ]
  },
  {
   "cell_type": "code",
   "execution_count": 48,
   "id": "ce9a5411",
   "metadata": {},
   "outputs": [
    {
     "data": {
      "text/plain": [
       "'variable inside the function'"
      ]
     },
     "execution_count": 48,
     "metadata": {},
     "output_type": "execute_result"
    }
   ],
   "source": [
    "my_function()"
   ]
  },
  {
   "cell_type": "code",
   "execution_count": 49,
   "id": "a3a6345a",
   "metadata": {},
   "outputs": [
    {
     "data": {
      "text/plain": [
       "'variable out side the function'"
      ]
     },
     "execution_count": 49,
     "metadata": {},
     "output_type": "execute_result"
    }
   ],
   "source": [
    "name"
   ]
  },
  {
   "cell_type": "markdown",
   "id": "32d8156c",
   "metadata": {},
   "source": [
    "*So, here when we tried to change the value of the variable \"name\" inside the function then instead of updating its value, python created another variable (\"another local variable\") whose scope was only limited to the function itself.\n",
    "*When we called the function, it returned the value of the local variable whereas when we directly accessed the \"name\" variable, it returned the value of the global variable."
   ]
  },
  {
   "cell_type": "markdown",
   "id": "fb71030d",
   "metadata": {},
   "source": [
    "LET'S SEE HOW CAN WE UPDATE THE VALUE OF THE GLOBAL VARIABLE INSIDE ANY USER-DEFINED FUNCTION.\n",
    "global keyword"
   ]
  },
  {
   "cell_type": "code",
   "execution_count": 50,
   "id": "afd897dc",
   "metadata": {},
   "outputs": [],
   "source": [
    "#define a global variable\n",
    "name = \"variable out side the function\"\n",
    "\n",
    "#define a function\n",
    "def my_function():\n",
    "    #tell the function which variables are global\n",
    "    global name\n",
    "    name = \"variable inside the function\"\n",
    "    return name"
   ]
  },
  {
   "cell_type": "code",
   "execution_count": 51,
   "id": "3de3a243",
   "metadata": {},
   "outputs": [
    {
     "data": {
      "text/plain": [
       "'variable inside the function'"
      ]
     },
     "execution_count": 51,
     "metadata": {},
     "output_type": "execute_result"
    }
   ],
   "source": [
    "my_function()"
   ]
  },
  {
   "cell_type": "code",
   "execution_count": 52,
   "id": "c0ee1908",
   "metadata": {},
   "outputs": [
    {
     "data": {
      "text/plain": [
       "'variable inside the function'"
      ]
     },
     "execution_count": 52,
     "metadata": {},
     "output_type": "execute_result"
    }
   ],
   "source": [
    "name"
   ]
  },
  {
   "cell_type": "markdown",
   "id": "1c2be8ef",
   "metadata": {},
   "source": [
    "While defining a function, we can tell the function that these variables are global using the global keyword."
   ]
  }
 ],
 "metadata": {
  "kernelspec": {
   "display_name": "Python 3",
   "language": "python",
   "name": "python3"
  },
  "language_info": {
   "codemirror_mode": {
    "name": "ipython",
    "version": 3
   },
   "file_extension": ".py",
   "mimetype": "text/x-python",
   "name": "python",
   "nbconvert_exporter": "python",
   "pygments_lexer": "ipython3",
   "version": "3.8.8"
  }
 },
 "nbformat": 4,
 "nbformat_minor": 5
}
